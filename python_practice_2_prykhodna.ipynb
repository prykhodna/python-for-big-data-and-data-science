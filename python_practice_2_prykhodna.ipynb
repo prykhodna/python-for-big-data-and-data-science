{
 "cells": [
  {
   "cell_type": "markdown",
   "metadata": {
    "id": "p9wwt0LZzNvn"
   },
   "source": [
    "# I. Змінні та памʼять."
   ]
  },
  {
   "cell_type": "markdown",
   "metadata": {
    "id": "HTJrrm95xSV9"
   },
   "source": [
    "1. Створити змінні, що посилаються на два цілих числа, що однакові за значенням, де значення належить проміжку від -5 до 256. Перевірте, чи будуть ці змінні рівні тільки за значенням або ж ще будуть посилатися на один і той самий обʼєкт в памʼяті? Наведіть код та дайте текстову відповідь нижче."
   ]
  },
  {
   "cell_type": "code",
   "execution_count": 5,
   "metadata": {
    "colab": {
     "base_uri": "https://localhost:8080/"
    },
    "executionInfo": {
     "elapsed": 14,
     "status": "ok",
     "timestamp": 1740476493501,
     "user": {
      "displayName": "Ksenia",
      "userId": "10575582720053843745"
     },
     "user_tz": -120
    },
    "id": "TATni2vzayjG",
    "outputId": "3dd927cb-65d4-4dcd-cfd2-61e2cc08931e"
   },
   "outputs": [
    {
     "name": "stdout",
     "output_type": "stream",
     "text": [
      "140726810604552 140726810604552\n"
     ]
    }
   ],
   "source": [
    "num1 = 8\n",
    "num2 = 8\n",
    "print(id(num1), id(num2))"
   ]
  },
  {
   "cell_type": "markdown",
   "metadata": {
    "id": "zfRG_o3WbRdg"
   },
   "source": [
    "*відповідь: цілі числа, що належать проміжку від -5 до 256 включно і мають рівні значення посилаються на один і той же об'єкт в пам'яті. Це зроблено для оптимізації інтерпретатора в Python."
   ]
  },
  {
   "cell_type": "markdown",
   "metadata": {
    "id": "ISORzt6M3vAt"
   },
   "source": [
    "2. За допомогою якої функції можна перевірити належність змінної до вказаного типу даних (напр. чи змінна True посилається на значення булевого та цілочисленого типу)?"
   ]
  },
  {
   "cell_type": "code",
   "execution_count": null,
   "metadata": {
    "colab": {
     "base_uri": "https://localhost:8080/"
    },
    "executionInfo": {
     "elapsed": 47,
     "status": "ok",
     "timestamp": 1740481207800,
     "user": {
      "displayName": "Ksenia",
      "userId": "10575582720053843745"
     },
     "user_tz": -120
    },
    "id": "9vL9CFaMbfyo",
    "outputId": "6e670ee2-0e9e-4afd-a86d-0d3e61f22d7a"
   },
   "outputs": [
    {
     "name": "stdout",
     "output_type": "stream",
     "text": [
      "True\n",
      "True\n"
     ]
    }
   ],
   "source": [
    "print(isinstance(True, (bool)))\n",
    "print(isinstance(True, (int)))"
   ]
  },
  {
   "cell_type": "markdown",
   "metadata": {
    "id": "tRxugKAxwYLw"
   },
   "source": [
    "# II. Цілі числа та числа з рухомою комою"
   ]
  },
  {
   "cell_type": "markdown",
   "metadata": {
    "id": "NLHkgd5Gybc8"
   },
   "source": [
    "3. Створити дві змінні, що посилаються на будь-які ціле число та число з рухомою комою та продемонструвати такі арифметичні операції: додавання, віднімання, ділення, множення, ділення без залишку, ділення по модулю, приведення до ступеню. Всі результати операцій вивести на екран."
   ]
  },
  {
   "cell_type": "code",
   "execution_count": 7,
   "metadata": {
    "colab": {
     "base_uri": "https://localhost:8080/"
    },
    "executionInfo": {
     "elapsed": 52,
     "status": "ok",
     "timestamp": 1740477276105,
     "user": {
      "displayName": "Ksenia",
      "userId": "10575582720053843745"
     },
     "user_tz": -120
    },
    "id": "nb8u_3pjb2cA",
    "outputId": "34984a73-8545-4b6e-be97-114a2ab5e693"
   },
   "outputs": [
    {
     "name": "stdout",
     "output_type": "stream",
     "text": [
      "95.06\n",
      "82.94\n",
      "14.686468646864688\n",
      "539.3399999999999\n",
      "14.0\n",
      "4.1600000000000055\n",
      "650584092758.442\n"
     ]
    }
   ],
   "source": [
    "num1 = 89\n",
    "num2 = 6.06\n",
    "print(num1 + num2)\n",
    "print(num1 - num2)\n",
    "print(num1 / num2)\n",
    "print(num1 * num2)\n",
    "print(num1 // num2)\n",
    "print(num1 % num2)\n",
    "print(num1 ** num2)"
   ]
  },
  {
   "cell_type": "markdown",
   "metadata": {
    "id": "1kBClKgPzZnC"
   },
   "source": [
    "4. Використовуючи змінні з вправи 3, продемонструйте механізм явного перетворення типів, де числа з рухомою комою перетворюються на цілі числа. Також визначте змінну, що посилається на значення булевого типу і спробуйте явно привести її до цілого числа."
   ]
  },
  {
   "cell_type": "code",
   "execution_count": 11,
   "metadata": {
    "colab": {
     "base_uri": "https://localhost:8080/"
    },
    "executionInfo": {
     "elapsed": 16,
     "status": "ok",
     "timestamp": 1740477478413,
     "user": {
      "displayName": "Ksenia",
      "userId": "10575582720053843745"
     },
     "user_tz": -120
    },
    "id": "TbqJbkeUcKsD",
    "outputId": "e51e317b-145e-444f-ece5-ecec47c6b57a"
   },
   "outputs": [
    {
     "name": "stdout",
     "output_type": "stream",
     "text": [
      "6\n",
      "1\n"
     ]
    }
   ],
   "source": [
    "num1 = 89\n",
    "num2 = 6.06\n",
    "float_into_int = int(num2)\n",
    "bool_into_int = int(True)\n",
    "print(float_into_int)\n",
    "print(bool_into_int)"
   ]
  },
  {
   "cell_type": "markdown",
   "metadata": {
    "id": "EVJ7AflwxrZi"
   },
   "source": [
    "# IІІ. Рядки (String)."
   ]
  },
  {
   "cell_type": "markdown",
   "metadata": {
    "id": "_s5ECzz9zE61"
   },
   "source": [
    "5. Створити пустий рядок двома різними способами."
   ]
  },
  {
   "cell_type": "code",
   "execution_count": null,
   "metadata": {
    "colab": {
     "base_uri": "https://localhost:8080/"
    },
    "executionInfo": {
     "elapsed": 46,
     "status": "ok",
     "timestamp": 1740477755586,
     "user": {
      "displayName": "Ksenia",
      "userId": "10575582720053843745"
     },
     "user_tz": -120
    },
    "id": "fkZJHu9Scvc-",
    "outputId": "7dc7ba17-7d55-4acb-85ab-bc6364741742"
   },
   "outputs": [
    {
     "name": "stdout",
     "output_type": "stream",
     "text": [
      "\n"
     ]
    }
   ],
   "source": [
    "empty_str1 = ''\n",
    "empty_str2 = str()"
   ]
  },
  {
   "cell_type": "markdown",
   "metadata": {
    "id": "4Bdn9J3MzLf_"
   },
   "source": [
    "6. Створити рядок з апострофом. Зробити його сирим. Вивести обидва рядка на екран."
   ]
  },
  {
   "cell_type": "code",
   "execution_count": 14,
   "metadata": {
    "colab": {
     "base_uri": "https://localhost:8080/"
    },
    "executionInfo": {
     "elapsed": 18,
     "status": "ok",
     "timestamp": 1740480855625,
     "user": {
      "displayName": "Ksenia",
      "userId": "10575582720053843745"
     },
     "user_tz": -120
    },
    "id": "ivji_hsmc0GH",
    "outputId": "9ca3aac9-75ae-4e8d-ded1-cb4e51e17129"
   },
   "outputs": [
    {
     "name": "stdout",
     "output_type": "stream",
     "text": [
      "string with apostroph' \n",
      "string with apostroph\\' \n"
     ]
    }
   ],
   "source": [
    "string_1 = \"string with apostroph\\' \"\n",
    "string_2 = r\"string with apostroph\\' \"\n",
    "print(string_1)\n",
    "print(string_2)"
   ]
  },
  {
   "cell_type": "markdown",
   "metadata": {
    "id": "bg_d8wM4z8dS"
   },
   "source": [
    "7. Створити змінну, що буде посилатися на Ваше прізвище латинкою. Створити форматований рядок, який буде мати вигляд \"My surname is ______\", де на місці нижніх підкреслень буде Ваше прізвище зі змінної."
   ]
  },
  {
   "cell_type": "code",
   "execution_count": 15,
   "metadata": {
    "colab": {
     "base_uri": "https://localhost:8080/"
    },
    "executionInfo": {
     "elapsed": 5,
     "status": "ok",
     "timestamp": 1740478069328,
     "user": {
      "displayName": "Ksenia",
      "userId": "10575582720053843745"
     },
     "user_tz": -120
    },
    "id": "kuxFgpWndACq",
    "outputId": "b8e53ee6-c4ce-4864-f0ef-1e4b0af778a7"
   },
   "outputs": [
    {
     "name": "stdout",
     "output_type": "stream",
     "text": [
      "My surname is Prykhodna\n"
     ]
    }
   ],
   "source": [
    "surname = 'Prykhodna'\n",
    "print(f'My surname is {surname}')"
   ]
  },
  {
   "cell_type": "markdown",
   "metadata": {
    "id": "1Nc6RqvQ0hxU"
   },
   "source": [
    "8. Маючи рядок \"My dog is crazy.\" перетворити його на список [\"my\", \"dog\", \"is\", \"crazy\"]"
   ]
  },
  {
   "cell_type": "code",
   "execution_count": 18,
   "metadata": {
    "colab": {
     "base_uri": "https://localhost:8080/"
    },
    "executionInfo": {
     "elapsed": 17,
     "status": "ok",
     "timestamp": 1740481133021,
     "user": {
      "displayName": "Ksenia",
      "userId": "10575582720053843745"
     },
     "user_tz": -120
    },
    "id": "w1Ya4RqedUhw",
    "outputId": "a2acb551-eef8-41a6-a6be-f5a6372e04c1"
   },
   "outputs": [
    {
     "name": "stdout",
     "output_type": "stream",
     "text": [
      "['my', 'dog', 'is', 'crazy']\n"
     ]
    }
   ],
   "source": [
    "sentence = \"My dog is crazy.\"\n",
    "sentence_2 = sentence.rstrip('.').lower().split()\n",
    "print(sentence_2)"
   ]
  },
  {
   "cell_type": "markdown",
   "metadata": {
    "id": "GYVqN9uP1D4n"
   },
   "source": [
    "# IV. Робота зі списками."
   ]
  },
  {
   "cell_type": "markdown",
   "metadata": {
    "id": "7-DeDunw2sO-"
   },
   "source": [
    "9. Створити список двома різними за синтаксисом способами. За допомогою вбудованої функції обчисліть довжину одного з них."
   ]
  },
  {
   "cell_type": "code",
   "execution_count": 12,
   "metadata": {
    "colab": {
     "base_uri": "https://localhost:8080/"
    },
    "executionInfo": {
     "elapsed": 10,
     "status": "ok",
     "timestamp": 1740479279923,
     "user": {
      "displayName": "Ksenia",
      "userId": "10575582720053843745"
     },
     "user_tz": -120
    },
    "id": "zxg06Uuxdyoh",
    "outputId": "d173279f-fff0-42bd-9edd-6418aa68b68c"
   },
   "outputs": [
    {
     "name": "stdout",
     "output_type": "stream",
     "text": [
      "4\n"
     ]
    }
   ],
   "source": [
    "list1 = [True, 1, '1', False, 34, 'abrakadabra']\n",
    "list2 = list(('wingardium leviosa', 78, False, 4.09))\n",
    "print(len(list2))"
   ]
  },
  {
   "cell_type": "markdown",
   "metadata": {
    "id": "8vmGUTjL22gI"
   },
   "source": [
    "10. Створіть два списка та за допомогою спеціального методу додайте другий з них в якості останнього елемента першого."
   ]
  },
  {
   "cell_type": "code",
   "execution_count": 48,
   "metadata": {
    "colab": {
     "base_uri": "https://localhost:8080/"
    },
    "executionInfo": {
     "elapsed": 37,
     "status": "ok",
     "timestamp": 1740479434379,
     "user": {
      "displayName": "Ksenia",
      "userId": "10575582720053843745"
     },
     "user_tz": -120
    },
    "id": "uHtjWYw7d7hm",
    "outputId": "2db9e745-264a-49bd-f661-ae07991c57d3"
   },
   "outputs": [
    {
     "name": "stdout",
     "output_type": "stream",
     "text": [
      "[45, 56, 67, [2]]\n"
     ]
    }
   ],
   "source": [
    "list_1 = [45, 56, 67]\n",
    "list_2 = [2]\n",
    "list_1.append(list_2)\n",
    "print(list_1)"
   ]
  },
  {
   "cell_type": "markdown",
   "metadata": {
    "id": "JC3BkD-67_--"
   },
   "source": [
    "11. Створіть список, де елементами цього списку також є списки. Отримай перший елемент з останнього рядка та виведи значення на екран."
   ]
  },
  {
   "cell_type": "code",
   "execution_count": 19,
   "metadata": {
    "colab": {
     "base_uri": "https://localhost:8080/"
    },
    "executionInfo": {
     "elapsed": 13,
     "status": "ok",
     "timestamp": 1740480059764,
     "user": {
      "displayName": "Ksenia",
      "userId": "10575582720053843745"
     },
     "user_tz": -120
    },
    "id": "Kz2jZHsGeLlz",
    "outputId": "c6007c67-600b-40cf-f8e9-042da88d8cc7"
   },
   "outputs": [
    {
     "data": {
      "text/plain": [
       "45"
      ]
     },
     "execution_count": 19,
     "metadata": {},
     "output_type": "execute_result"
    }
   ],
   "source": [
    "big_list = [['Lady Gaga', 23, 89, 0,], [45, 9.367]]\n",
    "big_list[1][0]"
   ]
  },
  {
   "cell_type": "markdown",
   "metadata": {
    "id": "JA47PKTv8zFK"
   },
   "source": [
    "12. Створіть список з десяти елементів різного типу. Отримайте всі елементи, окрім двох перших та двох останніх та збережіть їх в новій змінній."
   ]
  },
  {
   "cell_type": "code",
   "execution_count": 15,
   "metadata": {
    "colab": {
     "base_uri": "https://localhost:8080/"
    },
    "executionInfo": {
     "elapsed": 5,
     "status": "ok",
     "timestamp": 1740480238274,
     "user": {
      "displayName": "Ksenia",
      "userId": "10575582720053843745"
     },
     "user_tz": -120
    },
    "id": "_rHdUR-ueP4-",
    "outputId": "c29c25c9-830a-484c-dcd5-ff7cb901f63b"
   },
   "outputs": [
    {
     "name": "stdout",
     "output_type": "stream",
     "text": [
      "[90, 'lalala', False, [456, 78, 9.999], '3,14', 'march 14']\n"
     ]
    }
   ],
   "source": [
    "list10 = [1, 6.7, 90, 'lalala', False, [456, 78, 9.999], \"3,14\", 'march 14', 56, True]\n",
    "new_list = list10[2:-2]\n",
    "print(new_list)"
   ]
  },
  {
   "cell_type": "markdown",
   "metadata": {
    "id": "pCjR1dJb1Qbi"
   },
   "source": [
    "# V. Робота з кортежами."
   ]
  },
  {
   "cell_type": "markdown",
   "metadata": {
    "id": "fAZCxAX06R_k"
   },
   "source": [
    "14. Створити кортеж з один елементом."
   ]
  },
  {
   "cell_type": "code",
   "execution_count": 1,
   "metadata": {
    "colab": {
     "base_uri": "https://localhost:8080/"
    },
    "executionInfo": {
     "elapsed": 30,
     "status": "ok",
     "timestamp": 1740560352463,
     "user": {
      "displayName": "Ksenia",
      "userId": "10575582720053843745"
     },
     "user_tz": -120
    },
    "id": "H7d82WkQev3e",
    "outputId": "3210d39d-3000-48b8-94c9-275a99c6f6a6"
   },
   "outputs": [
    {
     "name": "stdout",
     "output_type": "stream",
     "text": [
      "<class 'tuple'>\n"
     ]
    }
   ],
   "source": [
    "new_tuple = (1,)\n",
    "print(type(new_tuple))"
   ]
  },
  {
   "cell_type": "markdown",
   "metadata": {
    "id": "8LCtYcmI6w1M"
   },
   "source": [
    "15. Порівняйте список та кортеж. Назвіть схожості та відмінності, випадки використання."
   ]
  },
  {
   "cell_type": "markdown",
   "metadata": {
    "id": "fUsN1Hnue0C6"
   },
   "source": [
    "Схоже: наявність індексів, використовуються для зберігання інформації, можуть водночас містити різні типи елементів, можуть містити дублікати.  Різне: список mutable, кортеж -- immutable, з цієї ж причини кортежі не змінюють свою довжину, для додавання одного елемента в кортеж необхідно поставити кому після нього. Випадки використання: списки використовуємо у випадку, коли очікуємо, що може змінитися інформація у ньому, її кількість. Кортеж -- коли необхідний фіксований набір певних об'єктів."
   ]
  },
  {
   "cell_type": "markdown",
   "metadata": {
    "id": "m0xrwFijAmDD"
   },
   "source": [
    "16. Створіть кортеж з 11ти елементів чисел з рухомою комою та отримайте кожен парний за індексом елемент в зворотньому порядку. Наприклад, маючи (1.2, 2.3, 3.3, 4.3, 5.3, 6.3, 7.3, 8.3, 9.3, 0.3), отримати (0.3, 8.3, 6.3, 4.3, 2.3). Результат збережіть в нову змінну та виведіть на екран."
   ]
  },
  {
   "cell_type": "code",
   "execution_count": 20,
   "metadata": {
    "colab": {
     "base_uri": "https://localhost:8080/"
    },
    "executionInfo": {
     "elapsed": 14,
     "status": "ok",
     "timestamp": 1740561325953,
     "user": {
      "displayName": "Ksenia",
      "userId": "10575582720053843745"
     },
     "user_tz": -120
    },
    "id": "p-5DAH6XfAGA",
    "outputId": "d7fd9742-c961-4125-ae36-74241d6bf5a0"
   },
   "outputs": [
    {
     "name": "stdout",
     "output_type": "stream",
     "text": [
      "(0.3, 8.3, 6.3, 4.3, 2.3, 0.2)\n"
     ]
    }
   ],
   "source": [
    "old_tuple = (0.2, 1.2, 2.3, 3.3, 4.3, 5.3, 6.3, 7.3, 8.3, 9.3, 0.3)\n",
    "new_tuple = old_tuple[::-2]\n",
    "print(new_tuple)"
   ]
  },
  {
   "cell_type": "markdown",
   "metadata": {
    "id": "rW_I9dt3x6cW"
   },
   "source": [
    "# VI. Множини (Set)."
   ]
  },
  {
   "cell_type": "markdown",
   "metadata": {
    "id": "zNjRLHLw1Bgg"
   },
   "source": [
    "17. Створити множину без елементів. Після цого за допомогою методу додайте кілька різних елементів до множини. Чи множини є змінним типом даних?"
   ]
  },
  {
   "cell_type": "code",
   "execution_count": 28,
   "metadata": {
    "colab": {
     "base_uri": "https://localhost:8080/"
    },
    "executionInfo": {
     "elapsed": 45,
     "status": "ok",
     "timestamp": 1740559065742,
     "user": {
      "displayName": "Ksenia",
      "userId": "10575582720053843745"
     },
     "user_tz": -120
    },
    "id": "KOv7zc2Kfo4N",
    "outputId": "3b5d430f-ebdc-4d49-8195-8c7757aee877"
   },
   "outputs": [
    {
     "name": "stdout",
     "output_type": "stream",
     "text": [
      "{1, 2, 3, (1, 6, 8), 'paw'}\n"
     ]
    }
   ],
   "source": [
    "empty_set = set()\n",
    "empty_set.update((1, 2, 3, 'paw', (1, 6, 8)))\n",
    "print(empty_set)"
   ]
  },
  {
   "cell_type": "markdown",
   "metadata": {
    "id": "vxS6dVYiftZQ"
   },
   "source": [
    "*множини є змінним (mutable) типом даних"
   ]
  },
  {
   "cell_type": "markdown",
   "metadata": {
    "id": "gHpT0Zw_1HEF"
   },
   "source": [
    "18. Створити множину, маючи список my_list = [1, 1, 2, 67, 67, 8, 9]. Пояснити, чому \"зникли\" деякі елементи."
   ]
  },
  {
   "cell_type": "code",
   "execution_count": 22,
   "metadata": {
    "colab": {
     "base_uri": "https://localhost:8080/"
    },
    "executionInfo": {
     "elapsed": 17,
     "status": "ok",
     "timestamp": 1740559233542,
     "user": {
      "displayName": "Ksenia",
      "userId": "10575582720053843745"
     },
     "user_tz": -120
    },
    "id": "qCN4uvJ_fxmu",
    "outputId": "2bd8b2e0-74b6-4022-de2f-59753dc5cb86"
   },
   "outputs": [
    {
     "name": "stdout",
     "output_type": "stream",
     "text": [
      "{1, 2, 67, 8, 9}\n"
     ]
    }
   ],
   "source": [
    "my_list = [1, 1, 2, 67, 67, 8, 9]\n",
    "new_set = set((my_list))\n",
    "print(new_set)"
   ]
  },
  {
   "cell_type": "markdown",
   "metadata": {
    "id": "tFNc1e20fyny"
   },
   "source": [
    "*однією із функцій множини є видалення дублікатів\n",
    "\n"
   ]
  },
  {
   "cell_type": "markdown",
   "metadata": {
    "id": "SRMkGizS1UwY"
   },
   "source": [
    "19. Створіть дві множини. Продемонстуйте над ними операції: обʼєднання, різниці, пересічі та симетричної різниці. Використовуйте методи, що не змінюють множини, а створюють нові."
   ]
  },
  {
   "cell_type": "code",
   "execution_count": 29,
   "metadata": {
    "colab": {
     "base_uri": "https://localhost:8080/"
    },
    "executionInfo": {
     "elapsed": 18,
     "status": "ok",
     "timestamp": 1740564210663,
     "user": {
      "displayName": "Ksenia",
      "userId": "10575582720053843745"
     },
     "user_tz": -120
    },
    "id": "h0T-VuDnf3Ri",
    "outputId": "9d70c1e0-fa69-452a-f53b-5b9a44036a4c"
   },
   "outputs": [
    {
     "name": "stdout",
     "output_type": "stream",
     "text": [
      "Union: {1, 2, 3, 68, 5, 6, 6.6, 8.5, 8, 78}\n",
      "Difference: {8.5, 3, 68}\n",
      "Intersection: {1, 5, 6, 78}\n",
      "Symmetric difference: {2, 3, 68, 6.6, 8, 8.5}\n"
     ]
    }
   ],
   "source": [
    "set_1 = {1, 2, 5, 6, 8, 6.6, 78}\n",
    "set_2 = {1, 3, 5, 68, 6, 8.5, 78}\n",
    "print(\"Union:\", set_2.union(set_1))\n",
    "print(\"Difference:\", set_2.difference(set_1))\n",
    "print(\"Intersection:\", set_2.intersection(set_1))\n",
    "print(\"Symmetric difference:\", set_2.symmetric_difference(set_1))"
   ]
  },
  {
   "cell_type": "markdown",
   "metadata": {
    "id": "kWc8gkzTx7Ea"
   },
   "source": [
    "# VII. Словники (Dictionary)."
   ]
  },
  {
   "cell_type": "markdown",
   "metadata": {
    "id": "i5FLwj-B2ybQ"
   },
   "source": [
    "20. Створіть пустий словник. До нього додайте чотири пари елементів такі, щоб їхні ключі були різних типів. Чи може список бути ключем? Чому?"
   ]
  },
  {
   "cell_type": "code",
   "execution_count": null,
   "metadata": {
    "colab": {
     "base_uri": "https://localhost:8080/"
    },
    "executionInfo": {
     "elapsed": 37,
     "status": "ok",
     "timestamp": 1740565200513,
     "user": {
      "displayName": "Ksenia",
      "userId": "10575582720053843745"
     },
     "user_tz": -120
    },
    "id": "hxgv3BzrgLAV",
    "outputId": "2f5cb224-7375-4b79-919e-7394bfe64baf"
   },
   "outputs": [
    {
     "name": "stdout",
     "output_type": "stream",
     "text": [
      "{'a': 'apple', 1: 'banana', (1, 2, 3): 'orange', False: 'cabbage'}\n"
     ]
    }
   ],
   "source": [
    "empty_dict = {}\n",
    "empty_dict.update({'a': 'apple', 1: 'banana', (1, 2, 3): 'orange', False: 'cabbage'})\n",
    "print(empty_dict)"
   ]
  },
  {
   "cell_type": "markdown",
   "metadata": {
    "id": "zwa7UVN-gR3m"
   },
   "source": [
    "*список не може бути ключем, оскільки він є змінюваним. а ключі, навпаки, мають бути унікальними та незмінними, щоб не можна було всередині змінити ключ без зміни айді, як це відбуваєтсья в списках.**"
   ]
  },
  {
   "cell_type": "markdown",
   "metadata": {
    "id": "WM_pMlJsgoNf"
   },
   "source": [
    "21. Створіть словник, де значенням в одній з пар теж буде словник, який теж має вкладений словник. Виведіть на екран значення, що міститься в словнику, що знаходиться на найнижчому рівні ієрархії вкладеності (найбільш внутрішній)."
   ]
  },
  {
   "cell_type": "code",
   "execution_count": 23,
   "metadata": {
    "colab": {
     "base_uri": "https://localhost:8080/",
     "height": 36
    },
    "executionInfo": {
     "elapsed": 41,
     "status": "ok",
     "timestamp": 1740566943312,
     "user": {
      "displayName": "Ksenia",
      "userId": "10575582720053843745"
     },
     "user_tz": -120
    },
    "id": "60dlP7IHhAy4",
    "outputId": "2d6d2dea-7323-4047-c9d9-105ce445a245"
   },
   "outputs": [
    {
     "data": {
      "text/plain": [
       "'cinnabon'"
      ]
     },
     "execution_count": 23,
     "metadata": {},
     "output_type": "execute_result"
    }
   ],
   "source": [
    "main_dictionary = {2: 'carrot', 34: {55: 'bun', 66: {'a': 'anxiety', 'b': 'cinnabon'}}}\n",
    "main_dictionary[34][66]['b']"
   ]
  },
  {
   "cell_type": "markdown",
   "metadata": {
    "id": "xOZP0hkx6cCr"
   },
   "source": [
    "# Вітаю! Ви велика(ий) молодець, що впоралась(вся). Похваліть себе та побалуйте чимось приємним. Я Вами пишаюся."
   ]
  }
 ],
 "metadata": {
  "colab": {
   "provenance": []
  },
  "kernelspec": {
   "display_name": "Python 3",
   "language": "python",
   "name": "python3"
  },
  "language_info": {
   "codemirror_mode": {
    "name": "ipython",
    "version": 3
   },
   "file_extension": ".py",
   "mimetype": "text/x-python",
   "name": "python",
   "nbconvert_exporter": "python",
   "pygments_lexer": "ipython3",
   "version": "3.11.9"
  }
 },
 "nbformat": 4,
 "nbformat_minor": 0
}
