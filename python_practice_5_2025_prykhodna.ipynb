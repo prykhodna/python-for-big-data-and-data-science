{
  "cells": [
    {
      "cell_type": "markdown",
      "metadata": {
        "id": "5qV_sehzFCTp"
      },
      "source": [
        "# I. OOP"
      ]
    },
    {
      "cell_type": "markdown",
      "metadata": {
        "id": "tx_U_hOALyfg"
      },
      "source": [
        "1. (6б). Створіть клас Building, додайте три атрибути, один з яких має значення за замовчуванням та два методи на свій розсуд."
      ]
    },
    {
      "cell_type": "code",
      "execution_count": 2,
      "metadata": {
        "id": "-Vf895KaL88N"
      },
      "outputs": [],
      "source": [
        "class Building:\n",
        "    def __init__(self, address, color, floors = 16):\n",
        "        self.address = address\n",
        "        self.color = color\n",
        "        self.floors = floors\n",
        "        \n",
        "    def paint(self, color):\n",
        "        self.color = color\n",
        "        \n",
        "    def get_total_height(self, floor_height):\n",
        "        return self.floors * floor_height"
      ]
    },
    {
      "cell_type": "markdown",
      "metadata": {
        "id": "X_UlOMB0L93w"
      },
      "source": [
        "2. (2б). Створіть два обʼєкти цього класу, де один з обʼєктів створюється із дефолтним значенням атрибуту. На одному обʼєкті отримайте значення його атрибуту, а на іншому викличте один з його методів."
      ]
    },
    {
      "cell_type": "code",
      "execution_count": 12,
      "metadata": {
        "id": "7gBu0ESOMCpG"
      },
      "outputs": [
        {
          "name": "stdout",
          "output_type": "stream",
          "text": [
            "16\n",
            "red\n"
          ]
        }
      ],
      "source": [
        "eng_building = Building(\"Street 1\", \"blue\")\n",
        "print(eng_building.floors)\n",
        "\n",
        "american_building = Building(\"Street2\", \"green\", 20)\n",
        "american_building.paint(\"red\")\n",
        "print(american_building.color)"
      ]
    },
    {
      "cell_type": "markdown",
      "metadata": {
        "id": "HoqSCZt1MHn5"
      },
      "source": [
        "3. (5б). Створіть клас, де атрибути мають різні рівні доступу. Спробуйте отримати їхні значення та опишіть результати."
      ]
    },
    {
      "cell_type": "code",
      "execution_count": 1,
      "metadata": {
        "id": "r9b3vJxBMSPV"
      },
      "outputs": [
        {
          "name": "stdout",
          "output_type": "stream",
          "text": [
            "AT&T\n",
            "{'brightness': 50, 'volume': 75}\n"
          ]
        },
        {
          "ename": "AttributeError",
          "evalue": "'Smartphone' object has no attribute '__local_storage'",
          "output_type": "error",
          "traceback": [
            "\u001b[1;31m---------------------------------------------------------------------------\u001b[0m",
            "\u001b[1;31mAttributeError\u001b[0m                            Traceback (most recent call last)",
            "Cell \u001b[1;32mIn[1], line 11\u001b[0m\n\u001b[0;32m      9\u001b[0m \u001b[38;5;28mprint\u001b[39m(s\u001b[38;5;241m.\u001b[39msim_card)\n\u001b[0;32m     10\u001b[0m \u001b[38;5;28mprint\u001b[39m(s\u001b[38;5;241m.\u001b[39m_settings)\n\u001b[1;32m---> 11\u001b[0m \u001b[38;5;28mprint\u001b[39m(\u001b[43ms\u001b[49m\u001b[38;5;241;43m.\u001b[39;49m\u001b[43m__local_storage\u001b[49m)\n",
            "\u001b[1;31mAttributeError\u001b[0m: 'Smartphone' object has no attribute '__local_storage'"
          ]
        }
      ],
      "source": [
        "class Smartphone:\n",
        "    def __init__(self, sim_card, settings):\n",
        "        self.sim_card = sim_card\n",
        "        self._settings = settings\n",
        "        self.__local_storage = {}\n",
        "        \n",
        "\n",
        "s = Smartphone(\"AT&T\", {\"brightness\": 50, \"volume\": 75})\n",
        "print(s.sim_card)\n",
        "print(s._settings)\n",
        "print(s.__local_storage)"
      ]
    },
    {
      "cell_type": "markdown",
      "metadata": {},
      "source": [
        "Доступ до публічних атрибутів можливий із будь-якого місця програми. До захищених атрибутів доступ є фактично можливим, проте цим не варто зловживати, адже за конвенцією доступ до нього здійснюється лише із дочірніх класів. До приватних атрибутів доступ здійснюється лише із класу, у якому цей атрибут був визначений.Щоб це хоч якось забезпечити, до приватних атрибутів Python застосовує механізм name mangling, тому вони не доступні за допомогою звичайного імені."
      ]
    },
    {
      "cell_type": "markdown",
      "metadata": {
        "id": "5op2m2vgMSkZ"
      },
      "source": [
        "4. (7б). Як ви розумієте термін self? Для чого використовується метод __init __?"
      ]
    },
    {
      "cell_type": "markdown",
      "metadata": {
        "id": "DyiPqNRvMasx"
      },
      "source": [
        "Термін self - перший атрибут у методах класу, який вказує на сам об'єкт класу. Використовують для доступу до атрибутів та методів класу в методах класу. Метод __init__ використовується для ініціалізації об'єкта класу - встановлення початкових значень атрибутів класу."
      ]
    },
    {
      "cell_type": "markdown",
      "metadata": {
        "id": "-6X8EGfjMd2y"
      },
      "source": [
        "5. (9б). Створіть клас 3D-фігура без атрибутів, з методом get_volume для отримання об'єму фігури, що повертає 0 та __add __, який приймає self та other в якості аргументів, а повертає суму об'ємів 3d-фігур self та other."
      ]
    },
    {
      "cell_type": "code",
      "execution_count": 14,
      "metadata": {
        "id": "4rvO_wYUMaEr"
      },
      "outputs": [],
      "source": [
        "class Shape3D:\n",
        "    def __init__(self):\n",
        "        pass\n",
        "    \n",
        "    def get_volume(self):\n",
        "        return 0\n",
        "    \n",
        "    def __add__(self, other):\n",
        "        return self.get_volume() + other.get_volume()"
      ]
    },
    {
      "cell_type": "markdown",
      "metadata": {
        "id": "SFcKnnv5Mo_z"
      },
      "source": [
        "6. (11б). Створіть 2 дочірніх класи від 3d-фігура: Циліндр та Куб, які мають атрибути, необхідні для розрахунку об'єму. Визначте метод get_volume в кожному з них так, щоби вони розраховували об'єм у залежності від формули для кожного типу фігури. Створіть обʼєкт класу Циліндр та обʼєкт класу Куб. Виконайте операцію суми за допомогою оператора + між ними, аби знайти сумарний об'єм."
      ]
    },
    {
      "cell_type": "code",
      "execution_count": 16,
      "metadata": {
        "id": "H3GVNr69Muf3"
      },
      "outputs": [
        {
          "name": "stdout",
          "output_type": "stream",
          "text": [
            "12.566\n",
            "27\n",
            "39.566\n"
          ]
        }
      ],
      "source": [
        "class Cylinder(Shape3D):\n",
        "    def __init__(self, radius, height):\n",
        "        self.radius = radius\n",
        "        self.height = height\n",
        "        \n",
        "    def get_volume(self):\n",
        "        return 3.1415 * self.radius ** 2 * self.height\n",
        "    \n",
        "\n",
        "class Cube(Shape3D):\n",
        "    def __init__(self, side):\n",
        "        self.side = side\n",
        "        \n",
        "    def get_volume(self):\n",
        "        return self.side ** 3\n",
        "    \n",
        "\n",
        "cylinder = Cylinder(1, 4)\n",
        "print(cylinder.get_volume())\n",
        "\n",
        "cube = Cube(3)\n",
        "print(cube.get_volume())\n",
        "\n",
        "print(cylinder + cube)"
      ]
    },
    {
      "cell_type": "markdown",
      "metadata": {
        "id": "HCvR206YMvLK"
      },
      "source": [
        "7. (3б). Продемонструйте різницю між isinstance та issubclass."
      ]
    },
    {
      "cell_type": "code",
      "execution_count": 19,
      "metadata": {
        "id": "L_V1bBvDM0GN"
      },
      "outputs": [
        {
          "name": "stdout",
          "output_type": "stream",
          "text": [
            "True\n",
            "False\n",
            "True\n",
            "True\n",
            "True\n",
            "False\n"
          ]
        }
      ],
      "source": [
        "print(isinstance(cylinder, Cylinder))\n",
        "print(isinstance(cylinder, Cube))\n",
        "print(isinstance(cylinder, Shape3D))\n",
        "\n",
        "print(issubclass(Cylinder, Shape3D))\n",
        "print(issubclass(Cube, Shape3D))\n",
        "print(issubclass(Cube, Cylinder))"
      ]
    },
    {
      "cell_type": "markdown",
      "metadata": {
        "id": "jjsaBZ-iM0Qq"
      },
      "source": [
        "8. (13б). Створіть клас EWallet з приватними атрибутами balance та id. Реалізуйте методи поповнення та зняття коштів, забезпечивши належну інкапсуляцію. Підказка: використовуйте декоратори property та setter."
      ]
    },
    {
      "cell_type": "code",
      "execution_count": 1,
      "metadata": {
        "id": "xCvZ7lh8M7YA"
      },
      "outputs": [],
      "source": [
        "class EWallet:\n",
        "    def __init__(self, id: int, balance: float):\n",
        "        self.__id = id\n",
        "        self.__balance = balance\n",
        "\n",
        "    @property\n",
        "    def id(self) -> int:\n",
        "        return self.__id\n",
        "    \n",
        "    @property\n",
        "    def balance(self) -> float:\n",
        "        return self.__balance\n",
        "    \n",
        "    @balance.setter\n",
        "    def balance(self, value: float):\n",
        "        if value < 0:\n",
        "            print(\"Balance cannot be negative\")\n",
        "        else:\n",
        "            self.__balance = value"
      ]
    },
    {
      "cell_type": "markdown",
      "metadata": {
        "id": "tIzL2SJTM8ft"
      },
      "source": [
        "9. (11б). Створіть клас ShoppingCart, який містить список об'єктів типу Item. Реалізуйте методи для додавання айтемів, їх видалення та відображення списку айтемів."
      ]
    },
    {
      "cell_type": "code",
      "execution_count": 3,
      "metadata": {
        "id": "HWxfJKLtNAUZ"
      },
      "outputs": [
        {
          "name": "stdout",
          "output_type": "stream",
          "text": [
            "Shopping cart:\n",
            "Milk, 2.5\n",
            "Cheese, 3.5\n",
            "Yoghurt, 1.0\n"
          ]
        }
      ],
      "source": [
        "class Item:\n",
        "    def __init__(self, name: str, price: float):\n",
        "        self.name = name\n",
        "        self.price = price\n",
        "\n",
        "    def __str__(self):\n",
        "        return f\"{self.name}, {self.price}\"\n",
        "\n",
        "class ShoppingCart:\n",
        "    def __init__(self):\n",
        "        self.items = []\n",
        "        \n",
        "    def add(self, item):\n",
        "        self.items.append(item)\n",
        "        \n",
        "    def remove(self, item):\n",
        "        self.items.remove(item)\n",
        "        \n",
        "    def __str__(self):\n",
        "        return \"Shopping cart:\\n\" + \"\\n\".join(map(str, self.items))\n",
        "    \n",
        "    \n",
        "\n",
        "cart = ShoppingCart()\n",
        "cart.add(Item(\"Milk\", 2.5))\n",
        "cart.add(Item(\"Cheese\", 3.5))\n",
        "cart.add(Item(\"Yoghurt\", 1.0))\n",
        "\n",
        "print(cart)"
      ]
    },
    {
      "cell_type": "markdown",
      "metadata": {
        "id": "lmV8pAwwNIqu"
      },
      "source": [
        "10. (13б). Створіть клас Vehicle з атрибутами brand (manufacturer) та production_age. Створіть ще один клас Engine з такими атрибутами, як type (ex. petrol) та size (volume, litres). Створіть клас Car, який успадковує обидва класи Vehicle та Engine. Продемонструйте використання множинної спадковості, створивши обʼєкт класу Car та отримавши mro для цього класу."
      ]
    },
    {
      "cell_type": "code",
      "execution_count": 4,
      "metadata": {
        "id": "R49grKlWNPeN"
      },
      "outputs": [
        {
          "name": "stdout",
          "output_type": "stream",
          "text": [
            "[<class '__main__.Car'>, <class '__main__.Vehicle'>, <class '__main__.Engine'>, <class 'object'>]\n"
          ]
        }
      ],
      "source": [
        "class Vehicle:\n",
        "    def __init__(self, brand, production_age):\n",
        "        self.brand = brand\n",
        "        self.production_age = production_age\n",
        "    \n",
        "\n",
        "class Engine:\n",
        "    def __init__(self, type, volume):\n",
        "        self.type = type\n",
        "        self.volume = volume\n",
        "    \n",
        "\n",
        "\n",
        "class Car(Vehicle, Engine):\n",
        "    def __init__(self, brand, production_age, type, volume):\n",
        "        Vehicle.__init__(self, brand, production_age)\n",
        "        Engine.__init__(self, type, volume)\n",
        "\n",
        "\n",
        "print(Car.mro()) "
      ]
    },
    {
      "cell_type": "markdown",
      "metadata": {
        "id": "dIJyUiNBFG8G"
      },
      "source": [
        "# II. Iterator"
      ]
    },
    {
      "cell_type": "markdown",
      "metadata": {
        "id": "13vsm0NyKIzL"
      },
      "source": [
        "11. (4б). Визначте рядок(str) з 4ма різними за значенням символами. Створіть ітератор на основі цього рядка. Викличте 5 разів функцію next на ітераторі, 4ри перших з них огорніть у ф-цію print()."
      ]
    },
    {
      "cell_type": "code",
      "execution_count": 26,
      "metadata": {
        "id": "81ntabAkKuz-"
      },
      "outputs": [
        {
          "name": "stdout",
          "output_type": "stream",
          "text": [
            "W\n",
            "a\n",
            "r\n",
            "m\n"
          ]
        },
        {
          "ename": "StopIteration",
          "evalue": "",
          "output_type": "error",
          "traceback": [
            "\u001b[1;31m---------------------------------------------------------------------------\u001b[0m",
            "\u001b[1;31mStopIteration\u001b[0m                             Traceback (most recent call last)",
            "Cell \u001b[1;32mIn[26], line 8\u001b[0m\n\u001b[0;32m      6\u001b[0m \u001b[38;5;28mprint\u001b[39m(\u001b[38;5;28mnext\u001b[39m(iter_st))\n\u001b[0;32m      7\u001b[0m \u001b[38;5;28mprint\u001b[39m(\u001b[38;5;28mnext\u001b[39m(iter_st))\n\u001b[1;32m----> 8\u001b[0m \u001b[38;5;28;43mnext\u001b[39;49m\u001b[43m(\u001b[49m\u001b[43miter_st\u001b[49m\u001b[43m)\u001b[49m\n",
            "\u001b[1;31mStopIteration\u001b[0m: "
          ]
        }
      ],
      "source": [
        "st = \"Warm\"\n",
        "\n",
        "iter_st = iter(st)\n",
        "print(next(iter_st))\n",
        "print(next(iter_st))\n",
        "print(next(iter_st))\n",
        "print(next(iter_st))\n",
        "next(iter_st)\n"
      ]
    },
    {
      "cell_type": "markdown",
      "metadata": {
        "id": "aekWHGXOLRsO"
      },
      "source": [
        "А що якщо викликати цю ж функцію на рядку?"
      ]
    },
    {
      "cell_type": "code",
      "execution_count": 28,
      "metadata": {
        "id": "mxATGsErLV1i"
      },
      "outputs": [
        {
          "ename": "TypeError",
          "evalue": "'str' object is not an iterator",
          "output_type": "error",
          "traceback": [
            "\u001b[1;31m---------------------------------------------------------------------------\u001b[0m",
            "\u001b[1;31mTypeError\u001b[0m                                 Traceback (most recent call last)",
            "Cell \u001b[1;32mIn[28], line 1\u001b[0m\n\u001b[1;32m----> 1\u001b[0m \u001b[38;5;28mprint\u001b[39m(\u001b[38;5;28;43mnext\u001b[39;49m\u001b[43m(\u001b[49m\u001b[43mst\u001b[49m\u001b[43m)\u001b[49m)\n",
            "\u001b[1;31mTypeError\u001b[0m: 'str' object is not an iterator"
          ]
        }
      ],
      "source": [
        "print(next(st))"
      ]
    },
    {
      "cell_type": "markdown",
      "metadata": {
        "id": "XwtMEopwJ4pH"
      },
      "source": [
        " 12. (5б). Опишіть своїми словами в одному реченні, як ви розумієте різницю між ітерабельними обʼєктами та ітераторами (можна на прикладі)."
      ]
    },
    {
      "cell_type": "markdown",
      "metadata": {
        "id": "-sHrODc3KFn8"
      },
      "source": [
        "Ітерабельні об'єкти - це об'єкти, які можна перебирати за допомогою циклу, наприклад, списки, кортежі, словники. Ітератори - це об'єкти, які дозволяють перебирати ітерабельні об'єкти, вони зберігають стан ітерації та вказівник на поточний елемент."
      ]
    },
    {
      "cell_type": "markdown",
      "metadata": {
        "id": "E9qJWmNbK8Gl"
      },
      "source": [
        "13. (11б). Створіть клас, що має визначений Iterator Protocol та при кожному виклику next повертає назву дня тижня, поки вони не вичерпаються. Зверніть увагу, що порядок має значення."
      ]
    },
    {
      "cell_type": "code",
      "execution_count": 7,
      "metadata": {
        "id": "cqx-g_RsLo6I"
      },
      "outputs": [
        {
          "name": "stdout",
          "output_type": "stream",
          "text": [
            "Monday\n",
            "Tuesday\n",
            "Wednesday\n",
            "Thursday\n",
            "Friday\n",
            "Saturday\n",
            "Sunday\n"
          ]
        }
      ],
      "source": [
        "class WeekIterator:\n",
        "    def __init__(self):\n",
        "        self.days = (\"Monday\", \"Tuesday\", \"Wednesday\", \"Thursday\", \"Friday\", \"Saturday\", \"Sunday\")\n",
        "        self.index = 0\n",
        "        \n",
        "    def __iter__(self):\n",
        "        return self\n",
        "    \n",
        "    def __next__(self):\n",
        "        if self.index >= len(self.days):\n",
        "            raise StopIteration\n",
        "        day = self.days[self.index]\n",
        "        self.index += 1\n",
        "        return day\n",
        "\n",
        "\n",
        "week = WeekIterator()\n",
        "for day in week:\n",
        "    print(day)"
      ]
    },
    {
      "cell_type": "markdown",
      "metadata": {
        "id": "Z3E3S_s1Fv7-"
      },
      "source": [
        "# Вітаю! Ви велика(ий) молодець, що впоралась(вся). Похваліть себе та побалуйте чимось приємним. Я Вами пишаюся."
      ]
    }
  ],
  "metadata": {
    "colab": {
      "provenance": []
    },
    "kernelspec": {
      "display_name": "Python 3",
      "language": "python",
      "name": "python3"
    },
    "language_info": {
      "codemirror_mode": {
        "name": "ipython",
        "version": 3
      },
      "file_extension": ".py",
      "mimetype": "text/x-python",
      "name": "python",
      "nbconvert_exporter": "python",
      "pygments_lexer": "ipython3",
      "version": "3.11.9"
    }
  },
  "nbformat": 4,
  "nbformat_minor": 0
}
